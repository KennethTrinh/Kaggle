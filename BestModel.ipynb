{
 "cells": [
  {
   "cell_type": "markdown",
   "id": "bcd55a9d-756f-4b7c-bfa9-e951e1b8806a",
   "metadata": {},
   "source": [
    "\n",
    "# Best Performing Model\n",
    "\n",
    "We will load the fully-trained convolutional neural network trained on the previous jupyter notebook with logistic regression and Naive Bayes"
   ]
  },
  {
   "cell_type": "code",
   "execution_count": 2,
   "id": "e5250fc3-ef1d-4393-8fd2-15017e92d87a",
   "metadata": {},
   "outputs": [
    {
     "name": "stderr",
     "output_type": "stream",
     "text": [
      "2021-12-09 20:44:57.197833: I tensorflow/core/platform/cpu_feature_guard.cc:142] This TensorFlow binary is optimized with oneAPI Deep Neural Network Library (oneDNN) to use the following CPU instructions in performance-critical operations:  AVX2 FMA\n",
      "To enable them in other operations, rebuild TensorFlow with the appropriate compiler flags.\n"
     ]
    },
    {
     "name": "stdout",
     "output_type": "stream",
     "text": [
      "Model: \"sequential_46\"\n",
      "_________________________________________________________________\n",
      "Layer (type)                 Output Shape              Param #   \n",
      "=================================================================\n",
      "conv2d_137 (Conv2D)          (None, 125, 22, 32)       832       \n",
      "_________________________________________________________________\n",
      "conv2d_138 (Conv2D)          (None, 121, 18, 32)       25600     \n",
      "_________________________________________________________________\n",
      "batch_normalization_47 (Batc (None, 121, 18, 32)       128       \n",
      "_________________________________________________________________\n",
      "activation_35 (Activation)   (None, 121, 18, 32)       0         \n",
      "_________________________________________________________________\n",
      "max_pooling2d_113 (MaxPoolin (None, 60, 9, 32)         0         \n",
      "_________________________________________________________________\n",
      "dropout_36 (Dropout)         (None, 60, 9, 32)         0         \n",
      "_________________________________________________________________\n",
      "conv2d_139 (Conv2D)          (None, 58, 7, 64)         18496     \n",
      "_________________________________________________________________\n",
      "conv2d_140 (Conv2D)          (None, 56, 5, 64)         36864     \n",
      "_________________________________________________________________\n",
      "batch_normalization_48 (Batc (None, 56, 5, 64)         256       \n",
      "_________________________________________________________________\n",
      "activation_36 (Activation)   (None, 56, 5, 64)         0         \n",
      "_________________________________________________________________\n",
      "max_pooling2d_114 (MaxPoolin (None, 28, 2, 64)         0         \n",
      "_________________________________________________________________\n",
      "dropout_37 (Dropout)         (None, 28, 2, 64)         0         \n",
      "_________________________________________________________________\n",
      "flatten_44 (Flatten)         (None, 3584)              0         \n",
      "_________________________________________________________________\n",
      "dense_106 (Dense)            (None, 256)               917504    \n",
      "_________________________________________________________________\n",
      "batch_normalization_49 (Batc (None, 256)               1024      \n",
      "_________________________________________________________________\n",
      "activation_37 (Activation)   (None, 256)               0         \n",
      "_________________________________________________________________\n",
      "dense_107 (Dense)            (None, 128)               32768     \n",
      "_________________________________________________________________\n",
      "batch_normalization_50 (Batc (None, 128)               512       \n",
      "_________________________________________________________________\n",
      "activation_38 (Activation)   (None, 128)               0         \n",
      "_________________________________________________________________\n",
      "dense_108 (Dense)            (None, 84)                10752     \n",
      "_________________________________________________________________\n",
      "batch_normalization_51 (Batc (None, 84)                336       \n",
      "_________________________________________________________________\n",
      "activation_39 (Activation)   (None, 84)                0         \n",
      "_________________________________________________________________\n",
      "dropout_38 (Dropout)         (None, 84)                0         \n",
      "_________________________________________________________________\n",
      "dense_109 (Dense)            (None, 6)                 510       \n",
      "=================================================================\n",
      "Total params: 1,045,582\n",
      "Trainable params: 1,044,454\n",
      "Non-trainable params: 1,128\n",
      "_________________________________________________________________\n"
     ]
    }
   ],
   "source": [
    "import numpy as np \n",
    "import pandas as pd \n",
    "import matplotlib.pyplot as plt\n",
    "from scipy import signal, stats\n",
    "from scipy.io import wavfile\n",
    "from tensorflow.keras.preprocessing.sequence import pad_sequences\n",
    "import csv\n",
    "import keras\n",
    "from sklearn.model_selection import train_test_split\n",
    "import tensorflow as tf\n",
    "from keras.models import Sequential\n",
    "from keras.layers import Conv2D, MaxPooling2D\n",
    "from sklearn.preprocessing import LabelEncoder\n",
    "from pydub import AudioSegment\n",
    "\n",
    "\n",
    "model = tf.keras.models.load_model('./model12')\n",
    "model.summary()"
   ]
  },
  {
   "cell_type": "markdown",
   "id": "d7589c94-1f8f-400b-abf0-f2c46094b158",
   "metadata": {},
   "source": [
    "### Loading the test spectrograms "
   ]
  },
  {
   "cell_type": "code",
   "execution_count": 16,
   "id": "d3c0fc93-0bad-4da8-9479-46590c81f4f6",
   "metadata": {},
   "outputs": [],
   "source": [
    "PATH = './train/train_new/train_'\n",
    "TEST_PATH = './test/test_new/test_'\n",
    "\n",
    "def load_speeches_test(path):\n",
    "    all_waves = []\n",
    "    for i in range(24750):\n",
    "        file = path + str(i) + '.wav'\n",
    "        _, samples = wavfile.read(file)\n",
    "        all_waves.append(samples)\n",
    "    return all_waves\n",
    "def get_spectrograms(waves):\n",
    "    sample_rate = 8000\n",
    "    spectros = []\n",
    "    freqs = []\n",
    "    tims = []\n",
    "    for wav in waves:\n",
    "        frequencies, times, spectrogram = signal.spectrogram(wav, sample_rate)\n",
    "        freqs.append(frequencies)\n",
    "        tims.append(times)\n",
    "        spectros.append(spectrogram)\n",
    "    return freqs,tims,spectros\n",
    "\n",
    "test_waves = load_speeches_test(TEST_PATH)\n",
    "_, _, test_spectros = get_spectrograms(test_waves)\n",
    "test_spectros = np.array(test_spectros)\n",
    "test_spectros = test_spectros.reshape(24750, 129, 26, 1)\n",
    "\n"
   ]
  },
  {
   "cell_type": "markdown",
   "id": "6e1e843d-19bd-4221-bcbf-3ad20964209a",
   "metadata": {},
   "source": [
    "### Load training data to retraing our model after every prediction"
   ]
  },
  {
   "cell_type": "code",
   "execution_count": 19,
   "id": "b25b80be-cbf0-4aab-bc2e-5e433e5afecc",
   "metadata": {},
   "outputs": [],
   "source": [
    "def load_speeches(path):\n",
    "    all_waves = []\n",
    "    for i in range(18000):\n",
    "        file = path + str(i) + '.wav'\n",
    "        _, samples = wavfile.read(file)\n",
    "        all_waves.append(samples)\n",
    "    data = pd.read_csv('train.csv')\n",
    "    labels = [data.iloc[:, 1][i] for i in range(18000)]\n",
    "    return all_waves,labels\n",
    "def append_43(all_waves, labels, intersection):\n",
    "    for i in intersection:\n",
    "        file = TEST_PATH + str(i) + '.wav'\n",
    "        _, samples = wavfile.read(file)\n",
    "        all_waves.append(samples)\n",
    "        labels.append(43)\n",
    "    return all_waves, labels\n",
    "intersection = np.loadtxt(\"./intersection.txt\").astype(int)\n",
    "\n",
    "all_waves,labels = load_speeches(PATH)\n",
    "all_waves, labels = append_43(all_waves, labels, intersection)\n",
    "labelencoder = LabelEncoder().fit(labels)\n",
    "encoded_labels = tf.keras.utils.to_categorical(labelencoder.transform(labels), 6)\n",
    "\n",
    "freqs,tims,spectros = get_spectrograms(all_waves)\n",
    "spectros = np.array(spectros) #spectros[0].shape --> (129, 26)\n",
    "spectros = spectros.reshape(len(all_waves), 129, 26, 1)\n",
    "X, X_test, Y, Y_test = train_test_split(spectros, encoded_labels, test_size=0.15, random_state=98)"
   ]
  },
  {
   "cell_type": "markdown",
   "id": "d9ccbf0d-35b7-4527-854c-3a2a7845f380",
   "metadata": {},
   "source": [
    "We used this fully trained model to continuously generate predictions, thresholded at 99.99 validation accuracy, terminating after 51 predictions"
   ]
  },
  {
   "cell_type": "code",
   "execution_count": 20,
   "id": "b72d1061-bd00-4734-b2d9-872d876a60f3",
   "metadata": {},
   "outputs": [
    {
     "name": "stderr",
     "output_type": "stream",
     "text": [
      "2021-12-09 20:57:12.365069: I tensorflow/compiler/mlir/mlir_graph_optimization_pass.cc:176] None of the MLIR Optimization Passes are enabled (registered 2)\n"
     ]
    },
    {
     "name": "stdout",
     "output_type": "stream",
     "text": [
      "135/135 [==============================] - 97s 707ms/step - loss: 0.0127 - accuracy: 0.9988 - val_loss: 0.0028 - val_accuracy: 0.9997\n",
      "skipped, too low\n",
      "135/135 [==============================] - 96s 714ms/step - loss: 0.0098 - accuracy: 0.9990 - val_loss: 0.0242 - val_accuracy: 0.9951\n",
      "skipped, too low\n",
      " 12/135 [=>............................] - ETA: 1:29 - loss: 0.0044 - accuracy: 0.9993"
     ]
    },
    {
     "ename": "KeyboardInterrupt",
     "evalue": "",
     "output_type": "error",
     "traceback": [
      "\u001b[0;31m---------------------------------------------------------------------------\u001b[0m",
      "\u001b[0;31mKeyboardInterrupt\u001b[0m                         Traceback (most recent call last)",
      "\u001b[0;32m/var/folders/8b/f88gqj3d69s4n_nzd_gkx8mh0000gn/T/ipykernel_7108/3639512474.py\u001b[0m in \u001b[0;36m<module>\u001b[0;34m\u001b[0m\n\u001b[1;32m      5\u001b[0m     \u001b[0;32mif\u001b[0m \u001b[0mmodel\u001b[0m\u001b[0;34m.\u001b[0m\u001b[0mhistory\u001b[0m\u001b[0;34m.\u001b[0m\u001b[0mhistory\u001b[0m\u001b[0;34m[\u001b[0m\u001b[0;34m'val_accuracy'\u001b[0m\u001b[0;34m]\u001b[0m\u001b[0;34m[\u001b[0m\u001b[0;36m0\u001b[0m\u001b[0;34m]\u001b[0m \u001b[0;34m<\u001b[0m \u001b[0;36m0.9999\u001b[0m\u001b[0;34m:\u001b[0m\u001b[0;34m\u001b[0m\u001b[0;34m\u001b[0m\u001b[0m\n\u001b[1;32m      6\u001b[0m         \u001b[0mprint\u001b[0m\u001b[0;34m(\u001b[0m\u001b[0;34m'skipped, too low'\u001b[0m\u001b[0;34m)\u001b[0m\u001b[0;34m\u001b[0m\u001b[0;34m\u001b[0m\u001b[0m\n\u001b[0;32m----> 7\u001b[0;31m         \u001b[0mmodel\u001b[0m\u001b[0;34m.\u001b[0m\u001b[0mfit\u001b[0m\u001b[0;34m(\u001b[0m\u001b[0mX\u001b[0m\u001b[0;34m,\u001b[0m\u001b[0mY\u001b[0m\u001b[0;34m,\u001b[0m\u001b[0mbatch_size\u001b[0m\u001b[0;34m=\u001b[0m\u001b[0;36m128\u001b[0m\u001b[0;34m,\u001b[0m\u001b[0mepochs\u001b[0m\u001b[0;34m=\u001b[0m\u001b[0;36m1\u001b[0m\u001b[0;34m,\u001b[0m\u001b[0mvalidation_data\u001b[0m\u001b[0;34m=\u001b[0m\u001b[0;34m(\u001b[0m\u001b[0mX_test\u001b[0m\u001b[0;34m,\u001b[0m\u001b[0mY_test\u001b[0m\u001b[0;34m)\u001b[0m\u001b[0;34m)\u001b[0m\u001b[0;34m\u001b[0m\u001b[0;34m\u001b[0m\u001b[0m\n\u001b[0m\u001b[1;32m      8\u001b[0m         \u001b[0;32mcontinue\u001b[0m\u001b[0;34m\u001b[0m\u001b[0;34m\u001b[0m\u001b[0m\n\u001b[1;32m      9\u001b[0m     \u001b[0mpredictions\u001b[0m \u001b[0;34m=\u001b[0m \u001b[0mmodel\u001b[0m\u001b[0;34m.\u001b[0m\u001b[0mpredict\u001b[0m\u001b[0;34m(\u001b[0m\u001b[0mtest_spectros\u001b[0m\u001b[0;34m)\u001b[0m\u001b[0;34m\u001b[0m\u001b[0;34m\u001b[0m\u001b[0m\n",
      "\u001b[0;32m/Library/Frameworks/Python.framework/Versions/3.9/lib/python3.9/site-packages/tensorflow/python/keras/engine/training.py\u001b[0m in \u001b[0;36mfit\u001b[0;34m(self, x, y, batch_size, epochs, verbose, callbacks, validation_split, validation_data, shuffle, class_weight, sample_weight, initial_epoch, steps_per_epoch, validation_steps, validation_batch_size, validation_freq, max_queue_size, workers, use_multiprocessing)\u001b[0m\n\u001b[1;32m   1181\u001b[0m                 _r=1):\n\u001b[1;32m   1182\u001b[0m               \u001b[0mcallbacks\u001b[0m\u001b[0;34m.\u001b[0m\u001b[0mon_train_batch_begin\u001b[0m\u001b[0;34m(\u001b[0m\u001b[0mstep\u001b[0m\u001b[0;34m)\u001b[0m\u001b[0;34m\u001b[0m\u001b[0;34m\u001b[0m\u001b[0m\n\u001b[0;32m-> 1183\u001b[0;31m               \u001b[0mtmp_logs\u001b[0m \u001b[0;34m=\u001b[0m \u001b[0mself\u001b[0m\u001b[0;34m.\u001b[0m\u001b[0mtrain_function\u001b[0m\u001b[0;34m(\u001b[0m\u001b[0miterator\u001b[0m\u001b[0;34m)\u001b[0m\u001b[0;34m\u001b[0m\u001b[0;34m\u001b[0m\u001b[0m\n\u001b[0m\u001b[1;32m   1184\u001b[0m               \u001b[0;32mif\u001b[0m \u001b[0mdata_handler\u001b[0m\u001b[0;34m.\u001b[0m\u001b[0mshould_sync\u001b[0m\u001b[0;34m:\u001b[0m\u001b[0;34m\u001b[0m\u001b[0;34m\u001b[0m\u001b[0m\n\u001b[1;32m   1185\u001b[0m                 \u001b[0mcontext\u001b[0m\u001b[0;34m.\u001b[0m\u001b[0masync_wait\u001b[0m\u001b[0;34m(\u001b[0m\u001b[0;34m)\u001b[0m\u001b[0;34m\u001b[0m\u001b[0;34m\u001b[0m\u001b[0m\n",
      "\u001b[0;32m/Library/Frameworks/Python.framework/Versions/3.9/lib/python3.9/site-packages/tensorflow/python/eager/def_function.py\u001b[0m in \u001b[0;36m__call__\u001b[0;34m(self, *args, **kwds)\u001b[0m\n\u001b[1;32m    887\u001b[0m \u001b[0;34m\u001b[0m\u001b[0m\n\u001b[1;32m    888\u001b[0m       \u001b[0;32mwith\u001b[0m \u001b[0mOptionalXlaContext\u001b[0m\u001b[0;34m(\u001b[0m\u001b[0mself\u001b[0m\u001b[0;34m.\u001b[0m\u001b[0m_jit_compile\u001b[0m\u001b[0;34m)\u001b[0m\u001b[0;34m:\u001b[0m\u001b[0;34m\u001b[0m\u001b[0;34m\u001b[0m\u001b[0m\n\u001b[0;32m--> 889\u001b[0;31m         \u001b[0mresult\u001b[0m \u001b[0;34m=\u001b[0m \u001b[0mself\u001b[0m\u001b[0;34m.\u001b[0m\u001b[0m_call\u001b[0m\u001b[0;34m(\u001b[0m\u001b[0;34m*\u001b[0m\u001b[0margs\u001b[0m\u001b[0;34m,\u001b[0m \u001b[0;34m**\u001b[0m\u001b[0mkwds\u001b[0m\u001b[0;34m)\u001b[0m\u001b[0;34m\u001b[0m\u001b[0;34m\u001b[0m\u001b[0m\n\u001b[0m\u001b[1;32m    890\u001b[0m \u001b[0;34m\u001b[0m\u001b[0m\n\u001b[1;32m    891\u001b[0m       \u001b[0mnew_tracing_count\u001b[0m \u001b[0;34m=\u001b[0m \u001b[0mself\u001b[0m\u001b[0;34m.\u001b[0m\u001b[0mexperimental_get_tracing_count\u001b[0m\u001b[0;34m(\u001b[0m\u001b[0;34m)\u001b[0m\u001b[0;34m\u001b[0m\u001b[0;34m\u001b[0m\u001b[0m\n",
      "\u001b[0;32m/Library/Frameworks/Python.framework/Versions/3.9/lib/python3.9/site-packages/tensorflow/python/eager/def_function.py\u001b[0m in \u001b[0;36m_call\u001b[0;34m(self, *args, **kwds)\u001b[0m\n\u001b[1;32m    915\u001b[0m       \u001b[0;31m# In this case we have created variables on the first call, so we run the\u001b[0m\u001b[0;34m\u001b[0m\u001b[0;34m\u001b[0m\u001b[0;34m\u001b[0m\u001b[0m\n\u001b[1;32m    916\u001b[0m       \u001b[0;31m# defunned version which is guaranteed to never create variables.\u001b[0m\u001b[0;34m\u001b[0m\u001b[0;34m\u001b[0m\u001b[0;34m\u001b[0m\u001b[0m\n\u001b[0;32m--> 917\u001b[0;31m       \u001b[0;32mreturn\u001b[0m \u001b[0mself\u001b[0m\u001b[0;34m.\u001b[0m\u001b[0m_stateless_fn\u001b[0m\u001b[0;34m(\u001b[0m\u001b[0;34m*\u001b[0m\u001b[0margs\u001b[0m\u001b[0;34m,\u001b[0m \u001b[0;34m**\u001b[0m\u001b[0mkwds\u001b[0m\u001b[0;34m)\u001b[0m  \u001b[0;31m# pylint: disable=not-callable\u001b[0m\u001b[0;34m\u001b[0m\u001b[0;34m\u001b[0m\u001b[0m\n\u001b[0m\u001b[1;32m    918\u001b[0m     \u001b[0;32melif\u001b[0m \u001b[0mself\u001b[0m\u001b[0;34m.\u001b[0m\u001b[0m_stateful_fn\u001b[0m \u001b[0;32mis\u001b[0m \u001b[0;32mnot\u001b[0m \u001b[0;32mNone\u001b[0m\u001b[0;34m:\u001b[0m\u001b[0;34m\u001b[0m\u001b[0;34m\u001b[0m\u001b[0m\n\u001b[1;32m    919\u001b[0m       \u001b[0;31m# Release the lock early so that multiple threads can perform the call\u001b[0m\u001b[0;34m\u001b[0m\u001b[0;34m\u001b[0m\u001b[0;34m\u001b[0m\u001b[0m\n",
      "\u001b[0;32m/Library/Frameworks/Python.framework/Versions/3.9/lib/python3.9/site-packages/tensorflow/python/eager/function.py\u001b[0m in \u001b[0;36m__call__\u001b[0;34m(self, *args, **kwargs)\u001b[0m\n\u001b[1;32m   3021\u001b[0m       (graph_function,\n\u001b[1;32m   3022\u001b[0m        filtered_flat_args) = self._maybe_define_function(args, kwargs)\n\u001b[0;32m-> 3023\u001b[0;31m     return graph_function._call_flat(\n\u001b[0m\u001b[1;32m   3024\u001b[0m         filtered_flat_args, captured_inputs=graph_function.captured_inputs)  # pylint: disable=protected-access\n\u001b[1;32m   3025\u001b[0m \u001b[0;34m\u001b[0m\u001b[0m\n",
      "\u001b[0;32m/Library/Frameworks/Python.framework/Versions/3.9/lib/python3.9/site-packages/tensorflow/python/eager/function.py\u001b[0m in \u001b[0;36m_call_flat\u001b[0;34m(self, args, captured_inputs, cancellation_manager)\u001b[0m\n\u001b[1;32m   1958\u001b[0m         and executing_eagerly):\n\u001b[1;32m   1959\u001b[0m       \u001b[0;31m# No tape is watching; skip to running the function.\u001b[0m\u001b[0;34m\u001b[0m\u001b[0;34m\u001b[0m\u001b[0;34m\u001b[0m\u001b[0m\n\u001b[0;32m-> 1960\u001b[0;31m       return self._build_call_outputs(self._inference_function.call(\n\u001b[0m\u001b[1;32m   1961\u001b[0m           ctx, args, cancellation_manager=cancellation_manager))\n\u001b[1;32m   1962\u001b[0m     forward_backward = self._select_forward_and_backward_functions(\n",
      "\u001b[0;32m/Library/Frameworks/Python.framework/Versions/3.9/lib/python3.9/site-packages/tensorflow/python/eager/function.py\u001b[0m in \u001b[0;36mcall\u001b[0;34m(self, ctx, args, cancellation_manager)\u001b[0m\n\u001b[1;32m    589\u001b[0m       \u001b[0;32mwith\u001b[0m \u001b[0m_InterpolateFunctionError\u001b[0m\u001b[0;34m(\u001b[0m\u001b[0mself\u001b[0m\u001b[0;34m)\u001b[0m\u001b[0;34m:\u001b[0m\u001b[0;34m\u001b[0m\u001b[0;34m\u001b[0m\u001b[0m\n\u001b[1;32m    590\u001b[0m         \u001b[0;32mif\u001b[0m \u001b[0mcancellation_manager\u001b[0m \u001b[0;32mis\u001b[0m \u001b[0;32mNone\u001b[0m\u001b[0;34m:\u001b[0m\u001b[0;34m\u001b[0m\u001b[0;34m\u001b[0m\u001b[0m\n\u001b[0;32m--> 591\u001b[0;31m           outputs = execute.execute(\n\u001b[0m\u001b[1;32m    592\u001b[0m               \u001b[0mstr\u001b[0m\u001b[0;34m(\u001b[0m\u001b[0mself\u001b[0m\u001b[0;34m.\u001b[0m\u001b[0msignature\u001b[0m\u001b[0;34m.\u001b[0m\u001b[0mname\u001b[0m\u001b[0;34m)\u001b[0m\u001b[0;34m,\u001b[0m\u001b[0;34m\u001b[0m\u001b[0;34m\u001b[0m\u001b[0m\n\u001b[1;32m    593\u001b[0m               \u001b[0mnum_outputs\u001b[0m\u001b[0;34m=\u001b[0m\u001b[0mself\u001b[0m\u001b[0;34m.\u001b[0m\u001b[0m_num_outputs\u001b[0m\u001b[0;34m,\u001b[0m\u001b[0;34m\u001b[0m\u001b[0;34m\u001b[0m\u001b[0m\n",
      "\u001b[0;32m/Library/Frameworks/Python.framework/Versions/3.9/lib/python3.9/site-packages/tensorflow/python/eager/execute.py\u001b[0m in \u001b[0;36mquick_execute\u001b[0;34m(op_name, num_outputs, inputs, attrs, ctx, name)\u001b[0m\n\u001b[1;32m     57\u001b[0m   \u001b[0;32mtry\u001b[0m\u001b[0;34m:\u001b[0m\u001b[0;34m\u001b[0m\u001b[0;34m\u001b[0m\u001b[0m\n\u001b[1;32m     58\u001b[0m     \u001b[0mctx\u001b[0m\u001b[0;34m.\u001b[0m\u001b[0mensure_initialized\u001b[0m\u001b[0;34m(\u001b[0m\u001b[0;34m)\u001b[0m\u001b[0;34m\u001b[0m\u001b[0;34m\u001b[0m\u001b[0m\n\u001b[0;32m---> 59\u001b[0;31m     tensors = pywrap_tfe.TFE_Py_Execute(ctx._handle, device_name, op_name,\n\u001b[0m\u001b[1;32m     60\u001b[0m                                         inputs, attrs, num_outputs)\n\u001b[1;32m     61\u001b[0m   \u001b[0;32mexcept\u001b[0m \u001b[0mcore\u001b[0m\u001b[0;34m.\u001b[0m\u001b[0m_NotOkStatusException\u001b[0m \u001b[0;32mas\u001b[0m \u001b[0me\u001b[0m\u001b[0;34m:\u001b[0m\u001b[0;34m\u001b[0m\u001b[0;34m\u001b[0m\u001b[0m\n",
      "\u001b[0;31mKeyboardInterrupt\u001b[0m: "
     ]
    }
   ],
   "source": [
    "model.fit(X,Y,batch_size=128,epochs=1,validation_data=(X_test,Y_test)) #initialize model history\n",
    "\n",
    "i = 0\n",
    "while i<51:\n",
    "    if model.history.history['val_accuracy'][0] < 0.9999: #if validation accuracy not 99.99, don't take predictions\n",
    "        print('skipped, too low')\n",
    "        model.fit(X,Y,batch_size=128,epochs=1,validation_data=(X_test,Y_test))\n",
    "        continue\n",
    "    predictions = model.predict(test_spectros)\n",
    "    inverse_predictions = np.array([ np.array([i, np.argmax(prediction)]) for i, prediction in enumerate(predictions)])\n",
    "    inverse_predictions[:, 1] = labelencoder.inverse_transform(inverse_predictions[:, 1])\n",
    "    np.savetxt(f\"./predictions/prediction{i}.txt\", inverse_predictions[:, 1])\n",
    "    print(f'iteration {i}')\n",
    "    model.fit(X,Y,batch_size=128,epochs=1,validation_data=(X_test,Y_test))\n",
    "    i+=1"
   ]
  },
  {
   "cell_type": "markdown",
   "id": "c9588050-ee64-4473-b960-efc80a52d502",
   "metadata": {},
   "source": [
    "As we threshold validation accuracy higher, this can take a while (I stopped it early)! We proceed by loading predictions we already obtained from overnight training."
   ]
  },
  {
   "cell_type": "code",
   "execution_count": 22,
   "id": "b6ebba40-8db1-4439-93b1-fe46f317775d",
   "metadata": {},
   "outputs": [
    {
     "data": {
      "text/plain": [
       "(24750, 51)"
      ]
     },
     "execution_count": 22,
     "metadata": {},
     "output_type": "execute_result"
    }
   ],
   "source": [
    "all_predictions = np.loadtxt(\"./predictions_last/prediction0.txt\").astype(int).reshape(24750, 1) #shape:(24750, 50)\n",
    "for i in range(1,51):\n",
    "     next_prediction = np.loadtxt(f\"./predictions_last/prediction{i}.txt\").astype(int).reshape(24750,1)\n",
    "     all_predictions = np.append(all_predictions, next_prediction, axis=1)\n",
    "\n",
    "all_predictions.shape\n"
   ]
  },
  {
   "cell_type": "markdown",
   "id": "bfe5e5ac-048a-4b95-a01e-e0f813f42673",
   "metadata": {},
   "source": [
    "Checking where predictions aren't all the same and analyzing statistics"
   ]
  },
  {
   "cell_type": "code",
   "execution_count": 26,
   "id": "00d408b0-06cc-46f2-a0dd-a72156efe70f",
   "metadata": {},
   "outputs": [
    {
     "name": "stdout",
     "output_type": "stream",
     "text": [
      "We have 209 predictions that disagree \n",
      "Predictions where mode is less than 98% of all predictions : 83\n",
      "Predictions where mode is less than 70% of all predictions : 4\n"
     ]
    }
   ],
   "source": [
    "modes = stats.mode(all_predictions, axis=1)[0].flatten() #shape:(24750, 1)\n",
    "find_discrepancies = np.array([np.all(mode == row_prediction) for mode, row_prediction in zip(modes, all_predictions)])\n",
    "discrepancies = np.argwhere(find_discrepancies==False)\n",
    "print(f'We have {len(discrepancies)} predictions that disagree ')\n",
    "percentage_equals_mode = np.array( [ ((all_predictions[i] == modes[i]).sum() /51) for i in range(24570) ] )\n",
    "print(f'Predictions where mode is less than 98% of all predictions : {np.argwhere(percentage_equals_mode<0.98).shape[0]}')\n",
    "print(f'Predictions where mode is less than 70% of all predictions : {np.argwhere(percentage_equals_mode<0.7).shape[0]}')"
   ]
  },
  {
   "cell_type": "code",
   "execution_count": 29,
   "id": "2baaa08a-669e-488d-8aad-071d6768bca1",
   "metadata": {},
   "outputs": [
    {
     "data": {
      "text/html": [
       "<div>\n",
       "<style scoped>\n",
       "    .dataframe tbody tr th:only-of-type {\n",
       "        vertical-align: middle;\n",
       "    }\n",
       "\n",
       "    .dataframe tbody tr th {\n",
       "        vertical-align: top;\n",
       "    }\n",
       "\n",
       "    .dataframe thead th {\n",
       "        text-align: right;\n",
       "    }\n",
       "</style>\n",
       "<table border=\"1\" class=\"dataframe\">\n",
       "  <thead>\n",
       "    <tr style=\"text-align: right;\">\n",
       "      <th></th>\n",
       "      <th>ID</th>\n",
       "      <th>Label</th>\n",
       "    </tr>\n",
       "  </thead>\n",
       "  <tbody>\n",
       "    <tr>\n",
       "      <th>0</th>\n",
       "      <td>0</td>\n",
       "      <td>31</td>\n",
       "    </tr>\n",
       "    <tr>\n",
       "      <th>1</th>\n",
       "      <td>1</td>\n",
       "      <td>32</td>\n",
       "    </tr>\n",
       "    <tr>\n",
       "      <th>2</th>\n",
       "      <td>2</td>\n",
       "      <td>43</td>\n",
       "    </tr>\n",
       "    <tr>\n",
       "      <th>3</th>\n",
       "      <td>3</td>\n",
       "      <td>43</td>\n",
       "    </tr>\n",
       "    <tr>\n",
       "      <th>4</th>\n",
       "      <td>4</td>\n",
       "      <td>42</td>\n",
       "    </tr>\n",
       "    <tr>\n",
       "      <th>...</th>\n",
       "      <td>...</td>\n",
       "      <td>...</td>\n",
       "    </tr>\n",
       "    <tr>\n",
       "      <th>24745</th>\n",
       "      <td>24745</td>\n",
       "      <td>32</td>\n",
       "    </tr>\n",
       "    <tr>\n",
       "      <th>24746</th>\n",
       "      <td>24746</td>\n",
       "      <td>32</td>\n",
       "    </tr>\n",
       "    <tr>\n",
       "      <th>24747</th>\n",
       "      <td>24747</td>\n",
       "      <td>41</td>\n",
       "    </tr>\n",
       "    <tr>\n",
       "      <th>24748</th>\n",
       "      <td>24748</td>\n",
       "      <td>41</td>\n",
       "    </tr>\n",
       "    <tr>\n",
       "      <th>24749</th>\n",
       "      <td>24749</td>\n",
       "      <td>42</td>\n",
       "    </tr>\n",
       "  </tbody>\n",
       "</table>\n",
       "<p>24750 rows × 2 columns</p>\n",
       "</div>"
      ],
      "text/plain": [
       "          ID  Label\n",
       "0          0     31\n",
       "1          1     32\n",
       "2          2     43\n",
       "3          3     43\n",
       "4          4     42\n",
       "...      ...    ...\n",
       "24745  24745     32\n",
       "24746  24746     32\n",
       "24747  24747     41\n",
       "24748  24748     41\n",
       "24749  24749     42\n",
       "\n",
       "[24750 rows x 2 columns]"
      ]
     },
     "execution_count": 29,
     "metadata": {},
     "output_type": "execute_result"
    }
   ],
   "source": [
    "array = np.array(range(24750)).reshape(24750,1)\n",
    "inverse_predictions = np.append(array, modes.reshape(24750, 1), axis=1)\n",
    "df = pd.DataFrame(inverse_predictions, columns=['ID', 'Label'])\n",
    "df"
   ]
  },
  {
   "cell_type": "markdown",
   "id": "b21fd33d-0cf2-4d5a-abde-4037677fc8fe",
   "metadata": {},
   "source": [
    "Lastly, we regenerate the intersection of 43 labels to be replaced - should approach 2250"
   ]
  },
  {
   "cell_type": "code",
   "execution_count": 32,
   "id": "7336a062-370f-4590-8586-70b60a17e6c0",
   "metadata": {},
   "outputs": [
    {
     "name": "stdout",
     "output_type": "stream",
     "text": [
      "This is how many 43 labels that 51 models agree on: 2233\n",
      "IDs of 43 predictions:\n"
     ]
    },
    {
     "data": {
      "text/plain": [
       "array([    2,     3,     7, ..., 24711, 24731, 24742])"
      ]
     },
     "execution_count": 32,
     "metadata": {},
     "output_type": "execute_result"
    }
   ],
   "source": [
    "intersection = np.argwhere(all_predictions[:, 0] ==43).flatten()\n",
    "for i in range(1,26):\n",
    "    pred = np.argwhere(all_predictions[:, i] ==43).flatten()\n",
    "    intersection = np.intersect1d(intersection, pred)\n",
    "print(f'This is how many 43 labels that 51 models agree on: { intersection.shape[0]}')\n",
    "print('IDs of 43 predictions:')\n",
    "intersection"
   ]
  },
  {
   "cell_type": "code",
   "execution_count": null,
   "id": "973e574e-a350-4afc-ad60-d60b904fd4e8",
   "metadata": {},
   "outputs": [],
   "source": []
  }
 ],
 "metadata": {
  "kernelspec": {
   "display_name": "Python 3 (ipykernel)",
   "language": "python",
   "name": "python3"
  },
  "language_info": {
   "codemirror_mode": {
    "name": "ipython",
    "version": 3
   },
   "file_extension": ".py",
   "mimetype": "text/x-python",
   "name": "python",
   "nbconvert_exporter": "python",
   "pygments_lexer": "ipython3",
   "version": "3.9.1"
  }
 },
 "nbformat": 4,
 "nbformat_minor": 5
}
