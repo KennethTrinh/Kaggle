{
 "cells": [
  {
   "cell_type": "markdown",
   "id": "69619cae-039e-4085-8b43-27192ab42ae8",
   "metadata": {},
   "source": [
    "For this Spoken Digit-Pair Classification task, we wanted to examine the performance of different models on the training set of 90,000 audio files used to predict the 24,750 test examples"
   ]
  },
  {
   "cell_type": "markdown",
   "id": "8162d68a-cd9c-4af5-b86e-e0c516c315f5",
   "metadata": {},
   "source": [
    "# Preparing Data\n",
    "Before beginning, we need to process the audio files by extracting the wavefile and pairing them with their respective labels. We'd expect the length of the list of all the wave files and labels to be 90,000 each."
   ]
  },
  {
   "cell_type": "code",
   "execution_count": 3,
   "id": "13c4c2c6-9c65-4fc5-bfe8-2a24d62e12b5",
   "metadata": {},
   "outputs": [
    {
     "name": "stdout",
     "output_type": "stream",
     "text": [
      "90000\n",
      "90000\n"
     ]
    }
   ],
   "source": [
    "import numpy as np\n",
    "import pandas as pd\n",
    "from scipy.io import wavfile\n",
    "PATH = './train/train_new/train_'\n",
    "TEST_PATH = './test/test_new/test_'\n",
    "\n",
    "def load_speeches(path):\n",
    "    all_waves = []\n",
    "    for i in range(90000):\n",
    "        file = path + str(i) + '.wav'\n",
    "        _, samples = wavfile.read(file)\n",
    "        all_waves.append(samples)\n",
    "    data = pd.read_csv('train.csv')\n",
    "    labels = [data.iloc[:, 1][i] for i in range(90000)]\n",
    "    return all_waves,labels\n",
    "\n",
    "\n",
    "all_waves,labels = load_speeches(PATH)\n",
    "print(len(all_waves))\n",
    "print(len(labels))"
   ]
  },
  {
   "cell_type": "markdown",
   "id": "363d5f51-4bf3-40d1-8a4c-31713dbd35e1",
   "metadata": {},
   "source": [
    "Next, we then encode the labels (since there are 6), and pair them with the spectrogram transformation of the audio signals"
   ]
  },
  {
   "cell_type": "code",
   "execution_count": 4,
   "id": "32428bac-e95f-4e73-90c6-af84bba8017b",
   "metadata": {},
   "outputs": [
    {
     "data": {
      "text/plain": [
       "(90000, 129, 26)"
      ]
     },
     "execution_count": 4,
     "metadata": {},
     "output_type": "execute_result"
    }
   ],
   "source": [
    "from scipy import signal\n",
    "from sklearn.preprocessing import LabelEncoder\n",
    "import tensorflow as tf\n",
    "def get_spectrograms(waves):\n",
    "    sample_rate = 8000\n",
    "    spectros = []\n",
    "    freqs = []\n",
    "    tims = []\n",
    "    for wav in waves:\n",
    "        frequencies, times, spectrogram = signal.spectrogram(wav, sample_rate)\n",
    "        freqs.append(frequencies)\n",
    "        tims.append(times)\n",
    "        spectros.append(spectrogram)\n",
    "    return freqs,tims,spectros\n",
    "\n",
    "labelencoder = LabelEncoder().fit(labels)\n",
    "encoded_labels = tf.keras.utils.to_categorical(labelencoder.transform(labels), 6)\n",
    "freqs,tims,spectros = get_spectrograms(all_waves)\n",
    "spectros = np.array(spectros)\n",
    "spectros.shape"
   ]
  },
  {
   "cell_type": "markdown",
   "id": "791357ad-5d93-4637-a07e-5f45ddc0e6fa",
   "metadata": {},
   "source": [
    "# Logistic Regression"
   ]
  },
  {
   "cell_type": "code",
   "execution_count": 19,
   "id": "4431ab3c-b191-43e1-8f83-7fd2a6d6d89b",
   "metadata": {},
   "outputs": [
    {
     "name": "stdout",
     "output_type": "stream",
     "text": [
      "(90000, 6000)\n",
      "(90000, 6000)\n",
      "(90000,)\n"
     ]
    }
   ],
   "source": [
    "from sklearn.model_selection import train_test_split\n",
    "from sklearn.linear_model import LogisticRegression\n",
    "log_reg_waves = np.array(all_waves)\n",
    "log_reg_spectros = spectros.reshape(90000, -1)\n",
    "print(log_reg_waves.shape)\n",
    "print(log_reg_waves.shape)\n",
    "print(encoded_labels.shape)\n",
    "\n",
    "encoded_labels = labelencoder.transform(labels)\n",
    "def logistic_regression_accuracy(data, encoded_labels):\n",
    "    X, X_test, Y, Y_test = train_test_split(data, encoded_labels, test_size=0.15, random_state=42)\n",
    "    reg = LogisticRegression().fit(X, Y)\n",
    "    predictions = reg.predict(X_test)\n",
    "    accuracy = reg.score(X_test, Y_test)\n",
    "    return accuracy\n"
   ]
  },
  {
   "cell_type": "code",
   "execution_count": 18,
   "id": "0808f343-b3c7-4b16-8df5-998a06eb3b0f",
   "metadata": {},
   "outputs": [
    {
     "name": "stderr",
     "output_type": "stream",
     "text": [
      "/Library/Frameworks/Python.framework/Versions/3.9/lib/python3.9/site-packages/sklearn/linear_model/_logistic.py:763: ConvergenceWarning: lbfgs failed to converge (status=1):\n",
      "STOP: TOTAL NO. of ITERATIONS REACHED LIMIT.\n",
      "\n",
      "Increase the number of iterations (max_iter) or scale the data as shown in:\n",
      "    https://scikit-learn.org/stable/modules/preprocessing.html\n",
      "Please also refer to the documentation for alternative solver options:\n",
      "    https://scikit-learn.org/stable/modules/linear_model.html#logistic-regression\n",
      "  n_iter_i = _check_optimize_result(\n",
      "/Library/Frameworks/Python.framework/Versions/3.9/lib/python3.9/site-packages/sklearn/linear_model/_logistic.py:763: ConvergenceWarning: lbfgs failed to converge (status=1):\n",
      "STOP: TOTAL NO. of ITERATIONS REACHED LIMIT.\n",
      "\n",
      "Increase the number of iterations (max_iter) or scale the data as shown in:\n",
      "    https://scikit-learn.org/stable/modules/preprocessing.html\n",
      "Please also refer to the documentation for alternative solver options:\n",
      "    https://scikit-learn.org/stable/modules/linear_model.html#logistic-regression\n",
      "  n_iter_i = _check_optimize_result(\n"
     ]
    },
    {
     "name": "stdout",
     "output_type": "stream",
     "text": [
      "Accuracy for logistic regression with wave: 1.0\n",
      "Accuracy for logistic regression with spectrogram: 0.9945925925925926\n"
     ]
    }
   ],
   "source": [
    "wav_accuracy = logistic_regression_accuracy(log_reg_waves, encoded_labels)\n",
    "spectro_accuracy = logistic_regression_accuracy(log_reg_spectros, encoded_labels)\n",
    "print(f'Accuracy for logistic regression with wave: {wav_accuracy}')\n",
    "print(f'Accuracy for logistic regression with spectrogram: {spectro_accuracy}')"
   ]
  },
  {
   "cell_type": "markdown",
   "id": "224e53ca-fa0b-49db-9127-d39ed63756bb",
   "metadata": {},
   "source": [
    "# Naive Bayes\n",
    "https://kyungyunlee.github.io/notes/ml-study1"
   ]
  },
  {
   "cell_type": "code",
   "execution_count": 20,
   "id": "73fc96dc-a9b7-4ceb-9faf-03b00f07a9f6",
   "metadata": {},
   "outputs": [
    {
     "name": "stdout",
     "output_type": "stream",
     "text": [
      "Accuracy for Naive Bayes with wave: 0.20977777777777779\n",
      "Accuracy for Naive Bayes with spectrogram: 0.88\n"
     ]
    }
   ],
   "source": [
    "from sklearn.naive_bayes import GaussianNB\n",
    "from sklearn.metrics import accuracy_score\n",
    "NB_waves = log_reg_waves\n",
    "NB_spectros = log_reg_spectros\n",
    "\n",
    "encoded_labels = labelencoder.transform(labels)\n",
    "def NB_accuracy(data, encoded_labels):\n",
    "    X, X_test, Y, Y_test = train_test_split(data, encoded_labels, test_size=0.15, random_state=42)\n",
    "    clf = GaussianNB().fit(X, Y)\n",
    "    predictions = clf.predict(X_test)\n",
    "    accuracy = accuracy_score(Y_test, predictions)\n",
    "    return accuracy\n",
    "\n",
    "wav_accuracy = NB_accuracy(NB_waves, encoded_labels)\n",
    "spectro_accuracy = NB_accuracy(NB_spectros, encoded_labels)\n",
    "print(f'Accuracy for Naive Bayes with wave: {wav_accuracy}')\n",
    "print(f'Accuracy for Naive Bayes with spectrogram: {spectro_accuracy}')"
   ]
  },
  {
   "cell_type": "markdown",
   "id": "088f535d-d33f-4cd9-bbd4-f296f5c8dad0",
   "metadata": {},
   "source": [
    "# Modifications\n",
    "The crux of this classifcation task was to make the observation that we are not given any training examples with the label '43'.  To make it possible for our classifier to predict the 43 labels, we use the test data to train our model (however, we can only use examples in which we are absolutely certain that the labels are 43).  We observe from the kaggle score distributions that approximately 10% of the test files were labeled '43', as naively training our models to **only** the training set results in a score of 0.90909 (which many students obtained).  To remedy this, we manually select '43' examples in the test file to train our model, then rescale our training set size to account for these '43' labels (there will be approximately 2250 which is around 10% of the data).  We scale our training set down to 18000 accordingly.  The file intersection.txt is a selected list of '43' labels (which was manually selected initially, but then evolved based on the corroboration of many models - optimized via ensemble methods)."
   ]
  },
  {
   "cell_type": "code",
   "execution_count": 22,
   "id": "39544e62-32b4-416b-ae23-3c6ead774b7b",
   "metadata": {},
   "outputs": [
    {
     "name": "stdout",
     "output_type": "stream",
     "text": [
      "All waves before appending 43 labels: 18000\n",
      "All waves after appending 43 labels: 20229\n"
     ]
    }
   ],
   "source": [
    "PATH = './train/train_new/train_'\n",
    "TEST_PATH = './test/test_new/test_'\n",
    "\n",
    "def load_speeches(path):\n",
    "    all_waves = []\n",
    "    for i in range(18000):\n",
    "        file = path + str(i) + '.wav'\n",
    "        _, samples = wavfile.read(file)\n",
    "        all_waves.append(samples)\n",
    "    data = pd.read_csv('train.csv')\n",
    "    labels = [data.iloc[:, 1][i] for i in range(18000)]\n",
    "    return all_waves,labels\n",
    "def append_43(all_waves, labels, intersection):\n",
    "    for i in intersection:\n",
    "        file = TEST_PATH + str(i) + '.wav'\n",
    "        _, samples = wavfile.read(file)\n",
    "        all_waves.append(samples)\n",
    "        labels.append(43)\n",
    "    return all_waves, labels\n",
    "all_waves,labels = load_speeches(PATH)\n",
    "print(f'All waves before appending 43 labels: {len(all_waves)}')\n",
    "intersection = np.loadtxt('./intersection.txt').astype(int)\n",
    "all_waves, labels = append_43(all_waves, labels, intersection)\n",
    "print(f'All waves after appending 43 labels: {len(all_waves)}')\n",
    "labelencoder = LabelEncoder().fit(labels)\n",
    "encoded_labels = tf.keras.utils.to_categorical(labelencoder.transform(labels), 6)"
   ]
  },
  {
   "cell_type": "code",
   "execution_count": 24,
   "id": "bc5723c4-f042-42c2-bcb8-fd076a45a3e7",
   "metadata": {},
   "outputs": [
    {
     "name": "stderr",
     "output_type": "stream",
     "text": [
      "/Library/Frameworks/Python.framework/Versions/3.9/lib/python3.9/site-packages/sklearn/linear_model/_logistic.py:763: ConvergenceWarning: lbfgs failed to converge (status=1):\n",
      "STOP: TOTAL NO. of ITERATIONS REACHED LIMIT.\n",
      "\n",
      "Increase the number of iterations (max_iter) or scale the data as shown in:\n",
      "    https://scikit-learn.org/stable/modules/preprocessing.html\n",
      "Please also refer to the documentation for alternative solver options:\n",
      "    https://scikit-learn.org/stable/modules/linear_model.html#logistic-regression\n",
      "  n_iter_i = _check_optimize_result(\n",
      "/Library/Frameworks/Python.framework/Versions/3.9/lib/python3.9/site-packages/sklearn/linear_model/_logistic.py:763: ConvergenceWarning: lbfgs failed to converge (status=1):\n",
      "STOP: TOTAL NO. of ITERATIONS REACHED LIMIT.\n",
      "\n",
      "Increase the number of iterations (max_iter) or scale the data as shown in:\n",
      "    https://scikit-learn.org/stable/modules/preprocessing.html\n",
      "Please also refer to the documentation for alternative solver options:\n",
      "    https://scikit-learn.org/stable/modules/linear_model.html#logistic-regression\n",
      "  n_iter_i = _check_optimize_result(\n"
     ]
    },
    {
     "name": "stdout",
     "output_type": "stream",
     "text": [
      "Accuracy for logistic regression with modified (43) wave: 1.0\n",
      "Accuracy for logistic regression with modified (43) spectrogram: 0.9696869851729819\n",
      "Accuracy for Naive Bayes with modified (43) wave: 0.185502471169687\n",
      "Accuracy for Naive Bayes with modified (43) spectrogram: 0.8520593080724876\n"
     ]
    }
   ],
   "source": [
    "freqs,tims,spectros = get_spectrograms(all_waves)\n",
    "spectros = np.array(spectros)\n",
    "modified_waves = np.array(all_waves)\n",
    "modified_spectros = spectros.reshape(20229, -1)\n",
    "encoded_labels = labelencoder.transform(labels)\n",
    "log_wav_accuracy = logistic_regression_accuracy(modified_waves, encoded_labels)\n",
    "log_spectro_accuracy = logistic_regression_accuracy(modified_spectros, encoded_labels)\n",
    "print(f'Accuracy for logistic regression with modified (43) wave: {log_wav_accuracy}')\n",
    "print(f'Accuracy for logistic regression with modified (43) spectrogram: {log_spectro_accuracy}')\n",
    "NB_wav_accuracy = NB_accuracy(modified_waves, encoded_labels)\n",
    "NB_spectro_accuracy = NB_accuracy(modified_spectros, encoded_labels)\n",
    "print(f'Accuracy for Naive Bayes with modified (43) wave: {NB_wav_accuracy}')\n",
    "print(f'Accuracy for Naive Bayes with modified (43) spectrogram: {NB_spectro_accuracy}')"
   ]
  },
  {
   "cell_type": "markdown",
   "id": "4c8862c5-15d5-499e-9bd1-24ca917c721c",
   "metadata": {},
   "source": [
    "# Trying a new model - Convolutional Neural Network with boostrap aggregation\n",
    "It becomes apparent that none of these models produce substantially good results (especially with less training examples), as logistic regression fails to converge with the wav files and performs marginally well with the spectrogram data.  Naive Bayes consistently exhibits performance below 90% accuracy.  We need an industrial strength algorithm - a convolutional neural network with several layers in order to detect the nuances of the spectrogram data."
   ]
  },
  {
   "cell_type": "code",
   "execution_count": 28,
   "id": "2b79dfd9-c281-4550-ae67-8fd462ccff6e",
   "metadata": {},
   "outputs": [
    {
     "data": {
      "text/plain": [
       "(20229, 6)"
      ]
     },
     "execution_count": 28,
     "metadata": {},
     "output_type": "execute_result"
    }
   ],
   "source": [
    "encoded_labels = tf.keras.utils.to_categorical(labelencoder.transform(labels), 6)\n",
    "X, X_test, Y, Y_test = train_test_split(spectros, encoded_labels, test_size=0.15, random_state=98)"
   ]
  },
  {
   "cell_type": "code",
   "execution_count": null,
   "id": "12de0f2f-37c7-4fe1-aeb5-42aee8365593",
   "metadata": {},
   "outputs": [],
   "source": [
    "X, X_test, Y, Y_test = train_test_split(spectros, encoded_labels, test_size=0.15, random_state=98)\n"
   ]
  }
 ],
 "metadata": {
  "kernelspec": {
   "display_name": "Python 3 (ipykernel)",
   "language": "python",
   "name": "python3"
  },
  "language_info": {
   "codemirror_mode": {
    "name": "ipython",
    "version": 3
   },
   "file_extension": ".py",
   "mimetype": "text/x-python",
   "name": "python",
   "nbconvert_exporter": "python",
   "pygments_lexer": "ipython3",
   "version": "3.9.1"
  }
 },
 "nbformat": 4,
 "nbformat_minor": 5
}
